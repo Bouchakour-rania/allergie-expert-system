from experta import *


class Allergie(Fact):
    """Classe représentant une allergie alimentaire."""
    def __init__(self, aliment, symptomes):
        self.aliment = aliment
        self.symptomes = symptomes


# cration la liste d'objets Allergie 
allergy_list = [
    Allergie(aliment="Arachides", symptomes=["Urticaire", "Gonflement du visage", "Difficultés respiratoires", "Anaphylaxie"]),
    Allergie(aliment="Lait", symptomes=["Diarrhée", "Vomissements", "Gaz", "Crampes d'estomac", "Gonflement", "Éruption cutanée"]),
    Allergie(aliment="Œufs", symptomes=["Urticaire", "Gonflement du visage", "Difficultés respiratoires", "Anaphylaxie"]),
    Allergie(aliment="Crustacés", symptomes=["Urticaire", "Gonflement du visage", "Difficultés respiratoires", "Anaphylaxie"]),
    Allergie(aliment="Poisson", symptomes=["Urticaire", "Gonflement du visage", "Difficultés respiratoires", "Anaphylaxie"]),
    Allergie(aliment="Soja", symptomes=["Urticaire", "Gonflement du visage", "Difficultés respiratoires", "Anaphylaxie"]),
    Allergie(aliment="Blé", symptomes=["Diarrhée", "Vomissements", "Gaz", "Crampes d'estomac", "Gonflement", "Éruption cutanée"]),
    Allergie(aliment="Fruits à coque (amandes, noix, noisettes, pistaches, noix de cajou, noix de pécan)", symptomes=["Urticaire", "Gonflement du visage", "Difficultés respiratoires", "Anaphylaxie"]),
    Allergie(aliment="Graines de sésame", symptomes=["Urticaire", "Gonflement du visage", "Difficultés respiratoires", "Anaphylaxie"]),
    Allergie(aliment="Moutarde", symptomes=["Urticaire", "Gonflement du visage", "Difficultés respiratoires", "Anaphylaxie"]),
    Allergie(aliment="Lupin", symptomes=["Urticaire", "Gonflement du visage", "Difficultés respiratoires", "Anaphylaxie"]),
    Allergie(aliment="Mollusques (moules, huîtres, palourdes)", symptomes=["Urticaire", "Gonflement du visage", "Difficultés respiratoires", "Anaphylaxie"]),
    Allergie(aliment="Céleri", symptomes=["Urticaire", "Gonflement du visage", "Difficultés respiratoires", "Anaphylaxie"]),
    Allergie(aliment="Sulfites", symptomes=["Généralement sans symptôme sauf chez les personnes asthmatiques ou sensibles aux sulfites, pouvant provoquer des difficultés respiratoires, de la toux, un essoufflement, un enrouement, un écoulement nasal, des maux de tête, des crampes abdominales, de la diarrhée, des nausées et des vomissements"]),
    Allergie(aliment="Noix de Grenoble", symptomes=["Urticaire", "Gonflement du visage", "Difficultés respiratoires", "Anaphylaxie"]),
    Allergie(aliment="Ananas", symptomes=["Urticaire", "Démangeaisons", "Enflure des lèvres, de la langue, des paupières ou du visage", "Difficultés respiratoires"]),
    Allergie(aliment="Kiwi", symptomes=["Démangeaisons", "Picotements dans la bouche", "Enflure des lèvres, de la langue, de la gorge ou du visage", "Éruption cutanée", "Difficultés respiratoires"]),
    Allergie(aliment="Tomates", symptomes=["Démangeaisons", "Enflure des lèvres, de la langue, de la gorge ou du visage", "Éruption cutanée", "Problèmes digestifs"]),
    Allergie(aliment="Carottes", symptomes=["Démangeaisons", "Enflure des lèvres, de la langue, de la gorge ou du visage", "Éruption cutanée", "Problèmes digestifs"]),
    Allergie(aliment="Pommes de terre", symptomes=["Démangeaisons", "Enflure des lèvres, de la langue, de la gorge ou du visage", "Éruption cutanée", "Problèmes digestifs"]),
    Allergie(aliment="Ail", symptomes=["Démangeaisons", "Enflure des lèvres, de la langue, de la gorge ou du visage", "Éruption cutanée", "Problèmes digestifs"]),
    Allergie(aliment="Cacahuètes", symptomes=["Urticaire", "Gonflement du visage", "Difficultés respiratoires", "Anaphylaxie"]),
    Allergie(aliment="Sésame", symptomes=["Urticaire", "Gonflement du visage", "Difficultés respiratoires", "Anaphylaxie"]),
    Allergie(aliment="Mangue", symptomes=["Démangeaisons", "Enflure des lèvres, de la langue, de la gorge ou du visage", "Éruption cutanée", "Problèmes digestifs"]),
    Allergie(aliment="Anchois", symptomes=["Urticaire", "Gonflement du visage", "Difficultés respiratoires", "Anaphylaxie"]),
    Allergie(aliment="Maïs", symptomes=["Démangeaisons", "Enflure des lèvres, de la langue, de la gorge ou du visage", "Éruption cutanée", "Problèmes digestifs"]),
    Allergie(aliment="Chocolat", symptomes=["Urticaire", "Démangeaisons", "Enflure des lèvres, de la langue, du visage ou de la gorge", "Éruption cutanée", "Maux de tête"]),
    Allergie(aliment="Céréales contenant du gluten autres que le blé (orge, seigle, épeautre, kamut)", symptomes=["Diarrhée", "Vomissements", "Gaz", "Crampes d'estomac", "Gonflement", "Éruption cutanée"]),
    Allergie(aliment="Poivrons", symptomes=["Démangeaisons", "Enflure des lèvres, de la langue, de la gorge ou du visage", "Éruption cutanée", "Problèmes digestifs"]),
    Allergie(aliment="Aubergine", symptomes=["Démangeaisons", "Enflure des lèvres, de la langue, de la gorge ou du visage", "Éruption cutanée", "Problèmes digestifs"]),
    Allergie(aliment="Pollen", symptomes=["Démangeaisons au niveau de la bouche, du nez, des yeux et de la gorge", "Éternuements", "Congestion nasale", "Larmoiement", "Toux"]),
    Allergie(aliment="Fraise", symptomes=["Démangeaisons", "Éruption cutanée", "Enflure des lèvres, de la langue, de la gorge ou du visage", "Urticaire", "Difficultés respiratoires"]),
    Allergie(aliment="Pêche", symptomes=["Démangeaisons", "Enflure des lèvres, de la langue, de la gorge ou du visage", "Éruption cutanée", "Urticaire", "Difficultés respiratoires"]),
    Allergie(aliment="Cerise", symptomes=["Démangeaisons", "Enflure des lèvres, de la langue, de la gorge ou du visage", "Éruption cutanée", "Urticaire", "Difficultés respiratoires"]),
    Allergie(aliment="Banane", symptomes=["Démangeaisons", "Enflure des lèvres, de la langue, de la gorge ou du visage", "Éruption cutanée", "Urticaire", "Difficultés respiratoires"]),
    Allergie(aliment="Abricot", symptomes=["Démangeaisons", "Enflure des lèvres, de la langue, de la gorge ou du visage", "Éruption cutanée", "Urticaire", "Difficultés respiratoires"]),
    Allergie(aliment="Poire", symptomes=["Démangeaisons", "Enflure des lèvres, de la langue, de la gorge ou du visage", "Éruption cutanée", "Urticaire", "Difficultés respiratoires"]),
    Allergie(aliment="Pomme", symptomes=["Démangeaisons", "Enflure des lèvres, de la langue, de la gorge ou du visage", "Éruption cutanée", "Urticaire", "Difficultés respiratoires"]),
    Allergie(aliment="Avocat", symptomes=["Démangeaisons", "Enflure des lèvres, de la langue, de la gorge ou du visage", "Éruption cutanée", "Urticaire", "Difficultés respiratoires"]),
    Allergie(aliment="Melon", symptomes=["Démangeaisons", "Enflure des lèvres, de la langue, de la gorge ou du visage", "Éruption cutanée", "Urticaire", "Difficultés respiratoires"]),
    Allergie(aliment="Raisin", symptomes=["Démangeaisons", "Enflure des lèvres, de la langue, de la gorge ou du visage", "Éruption cutanée", "Urticaire", "Difficultés respiratoires"]),
    Allergie(aliment="Figue", symptomes=["Démangeaisons", "Enflure des lèvres, de la langue, de la gorge ou du visage", "Éruption cutanée", "Urticaire", "Difficultés respiratoires"]),
    Allergie(aliment="Citron", symptomes=["Démangeaisons", "Enflure des lèvres, de la langue, de la gorge ou du visage", "Éruption cutanée", "Urticaire", "Difficultés respiratoires"]),
    Allergie(aliment="Orange", symptomes=["Démangeaisons", "Enflure des lèvres, de la langue, de la gorge ou du visage", "Éruption cutanée", "Urticaire", "Difficultés respiratoires"]),
    Allergie(aliment="Pamplemousse", symptomes=["Démangeaisons", "Enflure des lèvres, de la langue, de la gorge ou du visage", "Éruption cutanée", "Urticaire", "Difficultés respiratoires"]),
    Allergie(aliment="Mandarine", symptomes=["Démangeaisons", "Enflure des lèvres, de la langue, de la gorge ou du visage", "Éruption cutanée", "Urticaire", "Difficultés respiratoires"]),
    Allergie(aliment="Pois", symptomes=["Démangeaisons", "Enflure des lèvres, de la langue, de la gorge ou du visage", "Éruption cutanée", "Urticaire", "Difficultés respiratoires"]),
    Allergie(aliment="Légumineuses (haricots, lentilles, pois chiches)", symptomes=["Ballonnements", "Flatulences", "Diarrhée", "Douleurs abdominales", "Nausées"]),
]
# Fonction de recherche des symptômes associés à une allergie alimentaire 
def trouver_symptomes(aliment_recherche):
    symptomes_trouves = None
    for allergie in allergy_list:
        if allergie.aliment.lower() == aliment_recherche.lower():
            symptomes_trouves = allergie.symptomes
            break
    return symptomes_trouves


# Fonction d'éxécution
def main():
    print("Bienvenue dans le système de suivi des allergies alimentaires.")
    while True:
        aliment_recherche = input("Entrez le nom de l'allergie alimentaire à rechercher (ou 'exit' pour quitter) : ")
        if aliment_recherche.lower() == 'exit':
            print("Merci d'avoir utilisé le système. Au revoir !")
            break
        symptomes_trouves = trouver_symptomes(aliment_recherche)
        if symptomes_trouves:
            print(f"Symptômes associés à l'allergie aux {aliment_recherche}:")
            for symptome in symptomes_trouves:
                print(f"- { symptome }")
        else:
            print(f"Aucune information trouvée pour l'allergie aux {aliment_recherche}.")

if __name__ == "__main__":
    main()
